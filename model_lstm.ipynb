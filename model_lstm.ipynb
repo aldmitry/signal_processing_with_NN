{
 "cells": [
  {
   "cell_type": "code",
   "execution_count": 5,
   "metadata": {
    "collapsed": true
   },
   "outputs": [],
   "source": [
    "import random\n",
    "\n",
    "import pandas as pd\n",
    "import numpy as np\n",
    "import matplotlib.pyplot as plt\n",
    "import seaborn as sns\n",
    "import warnings\n",
    "import scipy\n",
    "from scipy.io.wavfile import write\n",
    "from scipy.fft import fft, fftfreq\n",
    "import itertools\n",
    "import math\n",
    "from sklearn.model_selection import train_test_split\n",
    "from sklearn.metrics import classification_report\n",
    "# Матрица ошибок классификатора\n",
    "from sklearn.metrics import confusion_matrix, ConfusionMatrixDisplay\n",
    "import gdown\n",
    "from scipy.fft import fft, fftfreq\n",
    "from scipy.fft import rfft, rfftfreq\n",
    "from sklearn.preprocessing import StandardScaler, MinMaxScaler, LabelEncoder\n",
    "import random\n",
    "#warnings.filterwarnings('ignore')\n",
    "sns.set_style('darkgrid')\n"
   ]
  },
  {
   "cell_type": "code",
   "execution_count": 6,
   "outputs": [],
   "source": [
    "import warnings\n",
    "warnings.filterwarnings('ignore')\n",
    "# Классы-конструкторы моделей нейронных сетей\n",
    "from tensorflow.keras.models import Sequential, Model,  Sequential, load_model\n",
    "from tensorflow.keras.utils import to_categorical\n",
    "from tensorflow.keras.layers import concatenate, Input, multiply, Dense, Dropout, BatchNormalization, Flatten, Conv1D, Conv2D, LSTM, GlobalMaxPooling1D, MaxPooling1D, MaxPooling2D, RepeatVector, SpatialDropout1D, SimpleRNN, GRU, Bidirectional\n",
    "from tensorflow.keras.optimizers import Adam, RMSprop, SGD, Adadelta, Adagrad, Adamax, Nadam, Ftrl\n",
    "from tensorflow.keras.preprocessing.sequence import TimeseriesGenerator\n",
    "from tensorflow.keras.utils import plot_model\n"
   ],
   "metadata": {
    "collapsed": false
   }
  },
  {
   "cell_type": "code",
   "execution_count": 13,
   "outputs": [],
   "source": [
    "def concatenate_signals(window , mean1, mean2, overlap ):\n",
    "    \"\"\"\n",
    "    Функция принимает размер будущего сигнала, параметры усреднения стыка сигналов, перекрытие, и частоту дискретизации\n",
    "    :param window:\n",
    "    :param mean1:\n",
    "    :param mean2:\n",
    "    :param overlap:\n",
    "    :param SAMPLE_RATE:\n",
    "    :return: signal + label\n",
    "    \"\"\"\n",
    "    duration = window * 2  # Секунды\n",
    "    if overlap == 0:\n",
    "        x1 = np.random.normal(0,1,duration)\n",
    "        x1 = pd.Series(x1).rolling(window = mean1).mean().dropna()\n",
    "        x1 = x1/(np.abs(x1).max())\n",
    "        return x1[:window], 0\n",
    "    else:\n",
    "        x1 = np.random.normal(0,1,duration) # Первый сигнал\n",
    "        x2 = np.random.normal(0,1,duration) # Второй сигнал\n",
    "\n",
    "        # Усреднение, обрезание, нормировка, склейка\n",
    "        x1 = pd.Series(x1).rolling(window = mean1).mean().dropna().values\n",
    "        x2 = pd.Series(x2).rolling(window = mean2).mean().dropna().values\n",
    "        x1 = x1/(np.abs(x1).max())\n",
    "        x2 = x2/(np.abs(x2).max())\n",
    "        len_1 = int(window * (1 - overlap))\n",
    "        len_2 = window - len_1\n",
    "        x1 = x1\n",
    "        x2 = x2\n",
    "        x = np.concatenate((x1[:len_1],x2[:len_2]))\n",
    "        return x, 1\n",
    "\n",
    "def make_signals(WINDOW, N_signals, overlap):\n",
    "    mean1 = random.randint(2,6)\n",
    "    mean2 = random.randint(2,6)\n",
    "    while mean1 == mean2:\n",
    "        mean2 = random.randint(2,5)\n",
    "    signals = []\n",
    "    y = []\n",
    "\n",
    "    for i in range(int(N_signals/2)):\n",
    "        signal, label = concatenate_signals(window = WINDOW, mean1 = mean1, mean2 = mean2, overlap = overlap)\n",
    "        signals.append(signal)\n",
    "        y.append(label)\n",
    "        signal, label = concatenate_signals(window = WINDOW, mean1 = mean1, mean2 = mean2, overlap = 0)\n",
    "        signals.append(signal)\n",
    "        y.append(label)\n",
    "\n",
    "    signals = [np.array(i) for i in signals]\n",
    "\n",
    "    return signals, y\n",
    "\n",
    "def make_spectr(signals,second_part = 0.5):\n",
    "    ind = int(len(signals[0]) * (1 - second_part))\n",
    "    signal_1 = [i[:ind] for i in signals]\n",
    "    signal_2 = [i[ind:] for i in signals]\n",
    "    signal_1_fft = [np.abs(rfft(i.flatten())) for i in signal_1]\n",
    "    signal_1_fft = [i/i.max() for i in signal_1_fft]\n",
    "    signal_2_fft = [np.abs(rfft(i.flatten())) for i in signal_2]\n",
    "    signal_2_fft = [i/i.max() for i in signal_2_fft]\n",
    "    signal_1_fft = np.array(signal_1_fft)\n",
    "    signal_2_fft = np.array(signal_2_fft)\n",
    "    print('Размеры спектров', signal_1_fft.shape, signal_2_fft.shape)\n",
    "    return signal_1_fft, signal_2_fft\n",
    "\n",
    "def compile_and_learn(model, X_train, y_train, X_test, y_test,  epochs, optimizer, loss, metrics, batch_size):\n",
    "\n",
    "    # Компиляция модели\n",
    "    model.compile(optimizer=optimizer,\n",
    "                loss=loss,\n",
    "                metrics=metrics)\n",
    "    model.summary()\n",
    "\n",
    "    # Обучение модели\n",
    "    history = model.fit(X_train,\n",
    "                        y_train,\n",
    "                        epochs=epochs,\n",
    "                        batch_size=16,\n",
    "                        validation_data=(X_test, y_test),\n",
    "                        verbose = 1)\n",
    "\n",
    "    f, axes = plt.subplots(1, 2, sharex=False, sharey=False, figsize=(15,5))\n",
    "    axes[0].plot(history.history['loss'], label='Ошибка на обучающем наборе')\n",
    "    axes[0].plot(history.history['val_loss'], label='Ошибка на проверочном наборе')\n",
    "    axes[0].set_xlabel('Эпоха')\n",
    "    axes[0].set_ylabel('Ошибка')\n",
    "    axes[0].legend()\n",
    "\n",
    "    axes[1].plot(history.history['accuracy'], label='Точность на обучающем наборе')\n",
    "    axes[1].plot(history.history['val_accuracy'], label='Точность на проверочном наборе')\n",
    "    axes[1].set_xlabel('Эпоха')\n",
    "    axes[1].set_ylabel('Точность')\n",
    "    axes[1].legend()\n",
    "\n",
    "    print('Тестовые данные')\n",
    "    y_pred = np.argmax(model.predict(X_test), axis=1)\n",
    "    print(classification_report(np.argmax(y_test, axis=1), y_pred))\n",
    "    print('Тренировочные данные')\n",
    "    y_pred = np.argmax(model.predict(X_train), axis=1)\n",
    "    print(classification_report(np.argmax(y_train, axis=1), y_pred))\n",
    "    return model\n",
    "\n",
    "def prepare_data_1(signal_1_fft, signal_2_fft, y):\n",
    "    X = np.concatenate([signal_1_fft, signal_2_fft], axis=1)\n",
    "    y = to_categorical(y)\n",
    "    print('signal_1_fft', signal_1_fft.shape)\n",
    "    print('signal_2_fft', signal_2_fft.shape)\n",
    "    X_train, X_test, y_train, y_test = train_test_split(X,y, stratify=y, test_size=0.3)\n",
    "    print('X_train', X_train.shape)\n",
    "    print('y_train', y_train.shape)\n",
    "    print('X_test', X_test.shape)\n",
    "    print('y_test', y_test.shape)\n",
    "    return X_train, X_test, y_train, y_test\n",
    "\n",
    "def prepare_data_2(signal_1_fft, signal_2_fft, y):\n",
    "    y = to_categorical(y)\n",
    "    print('signal_1_fft', signal_1_fft.shape)\n",
    "    print('signal_2_fft', signal_2_fft.shape)\n",
    "    test_size = 0.3\n",
    "    test_size = int(y.shape[0] * test_size)\n",
    "    test_indexes = np.random.choice(range(y.shape[0]), test_size, replace=False)\n",
    "    mask_test = np.array([for i in range(y.shape[0])])\n",
    "    X_train, X_test, y_train, y_test = train_test_split(X,y, stratify=y, test_size=0.3)\n",
    "    print('X_train', X_train.shape)\n",
    "    print('y_train', y_train.shape)\n",
    "    print('X_test', X_test.shape)\n",
    "    print('y_test', y_test.shape)\n",
    "    return X_train, X_test, y_train, y_test"
   ],
   "metadata": {
    "collapsed": false
   }
  },
  {
   "cell_type": "code",
   "execution_count": null,
   "outputs": [],
   "source": [],
   "metadata": {
    "collapsed": false
   }
  },
  {
   "cell_type": "code",
   "execution_count": 33,
   "outputs": [
    {
     "ename": "ValueError",
     "evalue": "The truth value of an array with more than one element is ambiguous. Use a.any() or a.all()",
     "output_type": "error",
     "traceback": [
      "\u001B[1;31m---------------------------------------------------------------------------\u001B[0m",
      "\u001B[1;31mValueError\u001B[0m                                Traceback (most recent call last)",
      "Cell \u001B[1;32mIn [33], line 1\u001B[0m\n\u001B[1;32m----> 1\u001B[0m np\u001B[38;5;241m.\u001B[39mwhere(\u001B[43mfun\u001B[49m\u001B[43m(\u001B[49m\u001B[43ma\u001B[49m\u001B[43m)\u001B[49m, \u001B[38;5;241m1\u001B[39m, \u001B[38;5;241m0\u001B[39m)\n",
      "Cell \u001B[1;32mIn [32], line 2\u001B[0m, in \u001B[0;36mfun\u001B[1;34m(x)\u001B[0m\n\u001B[0;32m      1\u001B[0m \u001B[38;5;28;01mdef\u001B[39;00m \u001B[38;5;21mfun\u001B[39m(x):\n\u001B[1;32m----> 2\u001B[0m     \u001B[38;5;28;01mif\u001B[39;00m \u001B[43mx\u001B[49m\u001B[43m \u001B[49m\u001B[38;5;129;43;01min\u001B[39;49;00m\u001B[43m \u001B[49m\u001B[43m[\u001B[49m\u001B[38;5;241;43m1\u001B[39;49m\u001B[43m,\u001B[49m\u001B[38;5;241;43m2\u001B[39;49m\u001B[43m,\u001B[49m\u001B[38;5;241;43m3\u001B[39;49m\u001B[43m]\u001B[49m:\n\u001B[0;32m      3\u001B[0m         \u001B[38;5;28;01mreturn\u001B[39;00m \u001B[38;5;28;01mTrue\u001B[39;00m\n\u001B[0;32m      4\u001B[0m     \u001B[38;5;28;01melse\u001B[39;00m:\n",
      "\u001B[1;31mValueError\u001B[0m: The truth value of an array with more than one element is ambiguous. Use a.any() or a.all()"
     ]
    }
   ],
   "source": [],
   "metadata": {
    "collapsed": false
   }
  },
  {
   "cell_type": "code",
   "execution_count": null,
   "outputs": [],
   "source": [],
   "metadata": {
    "collapsed": false
   }
  },
  {
   "cell_type": "code",
   "execution_count": null,
   "outputs": [],
   "source": [],
   "metadata": {
    "collapsed": false
   }
  },
  {
   "cell_type": "code",
   "execution_count": null,
   "outputs": [],
   "source": [],
   "metadata": {
    "collapsed": false
   }
  },
  {
   "cell_type": "code",
   "execution_count": 17,
   "outputs": [
    {
     "name": "stdout",
     "output_type": "stream",
     "text": [
      "Размеры спектров (5000, 1201) (5000, 301)\n",
      "signal_1_fft (5000, 1201)\n",
      "signal_2_fft (5000, 301)\n",
      "X_train (3500, 1502)\n",
      "y_train (3500, 2)\n",
      "X_test (1500, 1502)\n",
      "y_test (1500, 2)\n"
     ]
    }
   ],
   "source": [
    "signals, y = make_signals(WINDOW = 3000, N_signals = 5000, overlap = 0.2)\n",
    "signal_1_fft, signal_2_fft = make_spectr(signals,second_part = 0.2)\n",
    "X_train, X_test, y_train, y_test = prepare_data_1(signal_1_fft, signal_2_fft, y)"
   ],
   "metadata": {
    "collapsed": false
   }
  },
  {
   "cell_type": "markdown",
   "source": [
    "# LSTM сетка. Спектр первой части окна , спектр второй части окна и на выходе ответ одинаковые они или нет. 2 входа в модели"
   ],
   "metadata": {
    "collapsed": false
   }
  },
  {
   "cell_type": "code",
   "execution_count": null,
   "outputs": [],
   "source": [],
   "metadata": {
    "collapsed": false
   }
  }
 ],
 "metadata": {
  "kernelspec": {
   "display_name": "Python 3",
   "language": "python",
   "name": "python3"
  },
  "language_info": {
   "codemirror_mode": {
    "name": "ipython",
    "version": 2
   },
   "file_extension": ".py",
   "mimetype": "text/x-python",
   "name": "python",
   "nbconvert_exporter": "python",
   "pygments_lexer": "ipython2",
   "version": "2.7.6"
  }
 },
 "nbformat": 4,
 "nbformat_minor": 0
}
