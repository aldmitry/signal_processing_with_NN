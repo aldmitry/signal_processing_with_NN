{
 "cells": [
  {
   "cell_type": "code",
   "execution_count": 9,
   "metadata": {
    "collapsed": true
   },
   "outputs": [],
   "source": [
    "import random\n",
    "import random\n",
    "import math\n",
    "import pandas as pd\n",
    "import numpy as np\n",
    "import matplotlib.pyplot as plt\n",
    "import seaborn as sns\n",
    "import warnings\n",
    "import scipy\n",
    "from scipy.io.wavfile import write\n",
    "from scipy.fft import fft, fftfreq\n",
    "import itertools\n",
    "from sklearn.model_selection import train_test_split\n",
    "from sklearn.metrics import classification_report\n",
    "# Матрица ошибок классификатора\n",
    "from sklearn.metrics import confusion_matrix, ConfusionMatrixDisplay\n",
    "sns.set_style('darkgrid')"
   ]
  },
  {
   "cell_type": "code",
   "execution_count": 10,
   "outputs": [],
   "source": [
    "from scipy.fft import fft, fftfreq\n",
    "from scipy.fft import rfft, rfftfreq"
   ],
   "metadata": {
    "collapsed": false
   }
  },
  {
   "cell_type": "code",
   "execution_count": 11,
   "outputs": [],
   "source": [
    "# Классы-конструкторы моделей нейронных сетей\n",
    "from tensorflow.keras.models import Sequential, Model,  Sequential, load_model\n",
    "from tensorflow.keras.utils import to_categorical\n",
    "from tensorflow.keras.layers import concatenate, Input, multiply, Dense, Dropout, BatchNormalization, Flatten, Conv1D, Conv2D, LSTM, GlobalMaxPooling1D, MaxPooling1D, RepeatVector\n",
    "from tensorflow.keras.optimizers import Adam, RMSprop, SGD, Adadelta, Adagrad, Adamax, Nadam, Ftrl\n",
    "from tensorflow.keras.preprocessing.sequence import TimeseriesGenerator\n",
    "from sklearn.preprocessing import StandardScaler, MinMaxScaler, LabelEncoder"
   ],
   "metadata": {
    "collapsed": false
   }
  },
  {
   "cell_type": "code",
   "execution_count": 12,
   "outputs": [],
   "source": [
    "import warnings\n",
    "warnings.filterwarnings('ignore')"
   ],
   "metadata": {
    "collapsed": false
   }
  },
  {
   "cell_type": "markdown",
   "source": [
    "# Functions"
   ],
   "metadata": {
    "collapsed": false
   }
  },
  {
   "cell_type": "code",
   "execution_count": 25,
   "outputs": [],
   "source": [
    "def make_window_ma(lower = 10, upper = 100):\n",
    "    \"\"\"\n",
    "    Генерация размера скользящего окна, диапазоны указываем в аргументах\n",
    "    :param lower: int\n",
    "    :param upper: int\n",
    "    :return: int\n",
    "    \"\"\"\n",
    "    return random.randint(lower, upper)\n",
    "\n",
    "def make_observing_window(lower = 10, upper = 300):\n",
    "    \"\"\"\n",
    "    Генерация окна наблюдения. То окно, которое будем использовать для обнаружения нестационарности.\n",
    "    :param lower: int\n",
    "    :param upper: int\n",
    "    :return: int\n",
    "    \"\"\"\n",
    "    return random.randint(lower, upper)"
   ],
   "metadata": {
    "collapsed": false
   }
  },
  {
   "cell_type": "code",
   "execution_count": 46,
   "outputs": [],
   "source": [
    "def get_corr_coef(data, back_steps): #  шаг смещения >= 0\n",
    "    \"\"\"\n",
    "    Calculate correlation coefficient\n",
    "    :param data: numpy 1D array\n",
    "    :param back_steps:  autocorrelation shift\n",
    "    :return: correlation coefficient, float\n",
    "    \"\"\"\n",
    "\n",
    "    return np.corrcoef(data[back_steps:], data[:len(data) - back_steps])[0, 1]\n",
    "\n",
    "def make_autocorrelation_dependence(x, steps_max_part_window = 0.5):\n",
    "    \"\"\"\n",
    "    It takes a numpy array, and the maximum number of steps to calculate the autocorrelation function. The number of steps is expressed in terms of a fraction of the window (the length of the received signal).\n",
    "    :param x: numpy 1D array\n",
    "    :param steps_max_part_window: fraction of the array window, default 0.5\n",
    "    :return: numpy array\n",
    "    \"\"\"\n",
    "    N = int(x.shape[0] * steps_max_part_window)\n",
    "    steps = range(0, N + 1)\n",
    "    coefs = [get_corr_coef(x, i) for i in steps]\n",
    "\n",
    "    return np.array(coefs)"
   ],
   "metadata": {
    "collapsed": false
   }
  },
  {
   "cell_type": "code",
   "execution_count": 77,
   "outputs": [],
   "source": [
    "def make_random_signal(length, ma):\n",
    "    \"\"\"\n",
    "    The function creates a smooth signal obtained from noise.\n",
    "    :param length: size of creating signal\n",
    "    :param ma: value of moving average window\n",
    "    :return: nunpy array 1D\n",
    "    \"\"\"\n",
    "\n",
    "    x = np.random.normal(0,1,max(length*2, ma * 2))\n",
    "    x = pd.Series(x).rolling(window = ma).mean().dropna().values\n",
    "    abs_x = np.abs(x)\n",
    "    max_value =abs_x.max()\n",
    "    x = x/max_value\n",
    "    x = x[:length]\n",
    "\n",
    "    return x"
   ],
   "metadata": {
    "collapsed": false
   }
  },
  {
   "cell_type": "code",
   "execution_count": 75,
   "outputs": [],
   "source": [
    "def calculate_hulving_time_acf(y, x = None):\n",
    "    \"\"\"\n",
    "    Receive autocorrelation function and return the time it takes to halve\n",
    "    :param y: numpy 1D array\n",
    "    :param x: numpy 1D array, steps of shift. If None range(0, y.shape[0])\n",
    "    :return: float\n",
    "    \"\"\"\n",
    "\n",
    "\n",
    "\n",
    "\n",
    "    return t"
   ],
   "metadata": {
    "collapsed": false
   }
  },
  {
   "cell_type": "markdown",
   "source": [
    "# Autocorrelation function observing"
   ],
   "metadata": {
    "collapsed": false
   }
  },
  {
   "cell_type": "code",
   "execution_count": 84,
   "outputs": [],
   "source": [
    "for i in range(10000):\n",
    "    make_random_signal(make_observing_window(), make_window_ma())"
   ],
   "metadata": {
    "collapsed": false
   }
  },
  {
   "cell_type": "code",
   "execution_count": 43,
   "outputs": [],
   "source": [],
   "metadata": {
    "collapsed": false
   }
  },
  {
   "cell_type": "code",
   "execution_count": null,
   "outputs": [],
   "source": [],
   "metadata": {
    "collapsed": false
   }
  },
  {
   "cell_type": "code",
   "execution_count": null,
   "outputs": [],
   "source": [],
   "metadata": {
    "collapsed": false
   }
  }
 ],
 "metadata": {
  "kernelspec": {
   "display_name": "Python 3",
   "language": "python",
   "name": "python3"
  },
  "language_info": {
   "codemirror_mode": {
    "name": "ipython",
    "version": 2
   },
   "file_extension": ".py",
   "mimetype": "text/x-python",
   "name": "python",
   "nbconvert_exporter": "python",
   "pygments_lexer": "ipython2",
   "version": "2.7.6"
  }
 },
 "nbformat": 4,
 "nbformat_minor": 0
}
